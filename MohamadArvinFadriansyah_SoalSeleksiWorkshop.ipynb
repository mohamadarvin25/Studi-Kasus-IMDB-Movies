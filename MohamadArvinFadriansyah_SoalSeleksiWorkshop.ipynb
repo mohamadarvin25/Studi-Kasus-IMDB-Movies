{
 "nbformat": 4,
 "nbformat_minor": 0,
 "metadata": {
  "colab": {
   "provenance": []
  },
  "kernelspec": {
   "name": "python3",
   "language": "python",
   "display_name": "Python 3 (ipykernel)"
  },
  "language_info": {
   "name": "python"
  }
 },
 "cells": [
  {
   "cell_type": "code",
   "execution_count": null,
   "metadata": {
    "id": "mAlZPO2kvxSG"
   },
   "outputs": [],
   "source": []
  },
  {
   "cell_type": "markdown",
   "source": [
    "# SOAL SELEKSI WORKSHOP DATA SCIENCE COMPFEST 16"
   ],
   "metadata": {
    "id": "ZnDNHYugwMT9"
   }
  },
  {
   "cell_type": "markdown",
   "source": [
    "## Cara Pengerjaan"
   ],
   "metadata": {
    "id": "8fAY70Z0LYfI"
   }
  },
  {
   "cell_type": "markdown",
   "source": [
    "1. Kerjakan PG dan Isian pada bagian `Jawaban`\n",
    "2. Untuk Studi Kasus tulis kodenya setelah Soal pada bagian `# Tulis Kode Disini`\n",
    "3. Pengerjaannya soal bisa di download lalu langsung dikerjakan dan untuk pengumpulan menggunakan format IPYNB dengan format file `Nama_SoalSeleksiWorkshop.ipynb` lalu masukan ke drive dan masukan link drive tersebut ke submission pada halaman pendaftaran\n",
    "\n",
    "**!PASTIKAN AKSES DRIVE YANG DIKUMPULKAN SUDAH DISESUAIKAN!**\n",
    "\n",
    "Untuk Periode Pendaftaran dan deadline pengumpulan tugas adalah tanggal 26 Juli 2024 sampai 7 Agustus 2024\n",
    "\n",
    "Pengumuman akan dilaksanakan secara berkala melalui email"
   ],
   "metadata": {
    "id": "TVcIGcCdewGO"
   }
  },
  {
   "cell_type": "markdown",
   "source": [
    "## PG dan Isian"
   ],
   "metadata": {
    "id": "kCY7KQoGK2ok"
   }
  },
  {
   "cell_type": "markdown",
   "source": [
    "### 1. Apa itu Machine Learning?\n",
    "a) Proses di mana komputer dapat memahami dan memproses bahasa manusia\n",
    "\n",
    "b) Subset dari AI di mana komputer belajar dari data tanpa diprogram secara eksplisit\n",
    "\n",
    "c) Teknologi yang memungkinkan komputer untuk mengontrol robot\n",
    "\n",
    "d) Sistem yang dapat melakukan tugas-tugas fisik otomatis\n"
   ],
   "metadata": {
    "id": "0rQawioFxLhH"
   }
  },
  {
   "cell_type": "markdown",
   "source": [
    "`Jawaban` :  b) Subset dari AI di mana komputer belajar dari data tanpa diprogram secara eksplisit\n"
   ],
   "metadata": {
    "id": "fMcosDw2zeKs"
   }
  },
  {
   "cell_type": "markdown",
   "source": [
    "### 2. Apa pustaka Python yang paling umum digunakan untuk Machine Learning?\n",
    "\n",
    "a) NumPy\n",
    "\n",
    "b) Matplotlib\n",
    "\n",
    "c) Scikit-learn\n",
    "\n",
    "d) Pandas\n"
   ],
   "metadata": {
    "id": "Ydt-fklay3Gh"
   }
  },
  {
   "cell_type": "markdown",
   "source": [
    "`Jawaban` : d) Pandas"
   ],
   "metadata": {
    "id": "Pb2-FHZU0OzD"
   }
  },
  {
   "cell_type": "markdown",
   "source": [
    "### 3. Jenis masalah apa yang dapat diselesaikan dengan algoritma regresi linear?\n",
    "\n",
    "a) Klasifikasi\n",
    "\n",
    "b) Klasterisasi\n",
    "\n",
    "c) Prediksi nilai kontinu\n",
    "\n",
    "d) Pengurutan data\n"
   ],
   "metadata": {
    "id": "3tpfYtSOyqpF"
   }
  },
  {
   "cell_type": "markdown",
   "source": [
    "`Jawaban` : c) Prediksi nilai kontinu"
   ],
   "metadata": {
    "id": "bHuy9wIO0ldm"
   }
  },
  {
   "cell_type": "markdown",
   "source": [
    "### 4. Apa fungsi dari metode `train_test_split` dalam Scikit-learn?\n",
    "\n",
    "a) Menggabungkan dua set data\n",
    "\n",
    "b) Membagi data menjadi set pelatihan dan set pengujian\n",
    "\n",
    "c) Menghapus nilai yang hilang dari data\n",
    "\n",
    "d) Mengubah tipe data dari kolom tertentu\n"
   ],
   "metadata": {
    "id": "6QL0R2TfzZmm"
   }
  },
  {
   "cell_type": "markdown",
   "source": [
    "`Jawaban` : b) Membagi data menjadi set pelatihan dan set pengujian"
   ],
   "metadata": {
    "id": "QnouZAAf0p0x"
   }
  },
  {
   "cell_type": "markdown",
   "source": [
    "### 5. Dalam konteks evaluasi model, apa itu 'overfitting'?\n",
    "\n",
    "a) Ketika model memiliki kinerja buruk pada data pelatihan\n",
    "\n",
    "b) Ketika model terlalu sederhana dan tidak menangkap tren data\n",
    "\n",
    "c) Ketika model sangat cocok dengan data pelatihan tetapi kinerja buruk pada data baru\n",
    "\n",
    "d) Ketika model memiliki terlalu banyak data untuk diproses\n"
   ],
   "metadata": {
    "id": "lo-2NayR0vXc"
   }
  },
  {
   "cell_type": "markdown",
   "source": [
    "`Jawaban` : c) Ketika model sangat cocok dengan data pelatihan tetapi kinerja buruk pada data baru"
   ],
   "metadata": {
    "id": "2-P5aX5t1D93"
   }
  },
  {
   "cell_type": "markdown",
   "source": [
    "### 6. Apa yang dilakukan oleh fungsi `fit` pada sebuah model dalam Scikit-learn?\n",
    "\n",
    "a) Mengubah data ke dalam format yang dapat diproses oleh model\n",
    "\n",
    "b) Memvisualisasikan hasil dari model\n",
    "\n",
    "c) Melatih model menggunakan data pelatihan\n",
    "\n",
    "d) Mengevaluasi kinerja model\n"
   ],
   "metadata": {
    "id": "gIyrgBiN1RKt"
   }
  },
  {
   "cell_type": "markdown",
   "source": [
    "`Jawaban` : c) Melatih model menggunakan data pelatihan"
   ],
   "metadata": {
    "id": "IaBF-mgC1a5R"
   }
  },
  {
   "cell_type": "markdown",
   "source": [
    "7. Apa itu `feature scaling` dan mengapa penting dalam Machine Learning?\n",
    "\n",
    "a) Proses mengubah tipe data fitur\n",
    "\n",
    "b) Proses mengubah nilai fitur ke dalam skala yang lebih kecil\n",
    "\n",
    "c) Proses menggabungkan beberapa fitur menjadi satu\n",
    "\n",
    "d) Proses menghapus fitur yang tidak relevan\n"
   ],
   "metadata": {
    "id": "3_H0akD-1htq"
   }
  },
  {
   "cell_type": "markdown",
   "source": [
    "`Jawaban` : b) Proses mengubah nilai fitur ke dalam skala yang lebih kecil"
   ],
   "metadata": {
    "id": "TJS_ZWp41ty5"
   }
  },
  {
   "cell_type": "markdown",
   "source": [
    "### 8. Apa perbedaan utama antara supervised learning dan unsupervised learning?\n",
    "\n",
    "a) Supervised learning membutuhkan data yang telah diberi label, sementara unsupervised learning tidak\n",
    "\n",
    "b) Supervised learning digunakan untuk clustering, sementara unsupervised learning digunakan untuk regresi\n",
    "\n",
    "c) Supervised learning tidak membutuhkan data, sementara unsupervised learning membutuhkan data\n",
    "\n",
    "d) Supervised learning hanya digunakan untuk teks, sementara unsupervised learning digunakan untuk gambar\n"
   ],
   "metadata": {
    "id": "XoSosmPN2koi"
   }
  },
  {
   "cell_type": "markdown",
   "source": [
    "`Jawaban` : a) Supervised learning membutuhkan data yang telah diberi label, sementara unsupervised learning tidak"
   ],
   "metadata": {
    "id": "v9kdNCmsLWee"
   }
  },
  {
   "cell_type": "markdown",
   "source": [
    "### 9. Apa tujuan dari metode cross-validation dalam Machine Learning?\n",
    "\n",
    "a) Untuk mengukur seberapa cepat model dapat memproses data\n",
    "\n",
    "b) Untuk mengidentifikasi outliers dalam data\n",
    "\n",
    "c) Untuk memastikan bahwa model dapat digeneralisasi dengan baik ke data baru\n",
    "\n",
    "d) Untuk mengurangi ukuran dataset"
   ],
   "metadata": {
    "id": "7uBNZikFxdKL"
   }
  },
  {
   "cell_type": "markdown",
   "source": [
    "`Jawaban` : c) Untuk memastikan bahwa model dapat digeneralisasi dengan baik ke data baru"
   ],
   "metadata": {
    "id": "Fms1U_x2xuLI"
   }
  },
  {
   "cell_type": "markdown",
   "source": [
    "#### 10. Algoritma mana yang paling cocok untuk menangani masalah klasifikasi biner?\n",
    "\n",
    "a) K-means\n",
    "\n",
    "b) Principal Component Analysis (PCA)\n",
    "\n",
    "c) Logistic Regression\n",
    "\n",
    "d) Linear Regression"
   ],
   "metadata": {
    "id": "rQ9xFht7xzJu"
   }
  },
  {
   "cell_type": "markdown",
   "source": [
    "`Jawaban` : c) Logistic Regression"
   ],
   "metadata": {
    "id": "J3TUow3Vx3hK"
   }
  },
  {
   "cell_type": "markdown",
   "source": [
    "\n",
    "#### 11. Jelaskan apa itu Machine Learning dan bagaimana Machine Learning berbeda dari pemrograman tradisional. Berikan contoh aplikasi Machine Learning dalam kehidupan sehari-hari."
   ],
   "metadata": {
    "id": "LzpMUUAO1nQW"
   }
  },
  {
   "cell_type": "markdown",
   "source": [
    "`Jawaban` :\n",
    "Machine Learning (ML) adalah cabang dari kecerdasan buatan (AI) yang memungkinkan sistem untuk belajar dan membuat prediksi atau keputusan berdasarkan data, tanpa diprogram secara eksplisit. Dalam ML, algoritma digunakan untuk menganalisis data, mengenali pola, dan membuat model yang dapat digunakan untuk menggeneralisasi data baru.\n",
    "\n",
    "Perbedaan antara Machine Learning dan pemrograman tradisional:\n",
    "\n",
    "Pendekatan:\n",
    "\n",
    "Pemrograman tradisional: Menggunakan aturan yang telah ditentukan sebelumnya oleh manusia (instruksi eksplisit) untuk memproses data dan menghasilkan output. Programmer menulis kode untuk setiap situasi yang mungkin terjadi.\n",
    "Machine Learning: Algoritma belajar dari data dan menemukan pola atau aturan sendiri untuk membuat prediksi. Programmer hanya perlu menyediakan data dan memilih model yang tepat, sedangkan model ML akan menyesuaikan parameternya untuk mengoptimalkan hasil.\n",
    "Fleksibilitas:\n",
    "\n",
    "Pemrograman tradisional: Kurang fleksibel karena sulit menangani variasi data yang tidak terduga atau kompleks.\n",
    "Machine Learning: Lebih fleksibel karena model dapat terus diperbarui dan ditingkatkan seiring waktu dengan data baru.\n",
    "Skalabilitas:\n",
    "\n",
    "Pemrograman tradisional: Sulit untuk diskalakan jika ada perubahan besar dalam data atau lingkungan aplikasi.\n",
    "Machine Learning: Dapat dengan mudah diskalakan dengan data baru, memungkinkan model untuk beradaptasi dengan kondisi yang berubah.\n",
    "Contoh aplikasi Machine Learning dalam kehidupan sehari-hari:\n",
    "\n",
    "Pengenalan Wajah: Digunakan dalam perangkat keamanan dan aplikasi sosial media untuk mengidentifikasi individu dari gambar atau video.\n",
    "Rekomendasi Produk: Digunakan oleh platform e-commerce seperti Amazon untuk merekomendasikan produk berdasarkan riwayat pembelian atau penelusuran pengguna.\n",
    "Asisten Virtual: Asisten seperti Siri, Google Assistant, dan Alexa menggunakan ML untuk memahami dan merespon perintah suara pengguna.\n",
    "Deteksi Penipuan: Bank dan perusahaan kartu kredit menggunakan ML untuk mendeteksi aktivitas penipuan berdasarkan pola transaksi.\n",
    "Penyaring Spam: Algoritma ML digunakan dalam email untuk memfilter pesan spam dan menjaga kotak masuk pengguna tetap bersih."
   ],
   "metadata": {
    "id": "BPWguwIw13rb"
   }
  },
  {
   "cell_type": "markdown",
   "source": [
    "#### 12. Sebuah perusahaan e-commerce ingin membangun model machine learning untuk menganalisis sentimen ulasan produk mereka (positif, negatif, atau netral). Data yang tersedia adalah teks ulasan produk dan label sentimen. Jelaskan langkah-langkah yang akan Anda lakukan untuk membangun model analisis sentimen ulasan produk tersebut. Bagaimana Anda akan memproses data teks ulasan sebelum membangun model? Sebutkan beberapa teknik yang akan Anda gunakan. Setelah membangun model, Anda melihat bahwa model memiliki akurasi yang baik pada set pelatihan tetapi tidak pada set pengujian. Apa yang mungkin menjadi penyebabnya dan bagaimana Anda akan mengatasinya?"
   ],
   "metadata": {
    "id": "ULFcms8e1zYr"
   }
  },
  {
   "cell_type": "markdown",
   "source": [
    "`Jawaban` :\n",
    "Langkah-langkah Membangun Model Analisis Sentimen\n",
    "Pengumpulan Data\n",
    "\n",
    "Kumpulkan data teks ulasan produk beserta label sentimen (positif, negatif, atau netral).\n",
    "Eksplorasi dan Pra-pemrosesan Data\n",
    "\n",
    "Eksplorasi Data: Lakukan eksplorasi data awal untuk memahami distribusi label sentimen, panjang ulasan, dan frekuensi kata.\n",
    "Pembersihan Data: Hapus karakter khusus, angka, dan tanda baca yang tidak diperlukan.\n",
    "Normalisasi Teks: Konversi semua teks ke huruf kecil untuk konsistensi.\n",
    "Penghilangan Stopwords: Hapus kata-kata umum yang tidak membawa makna signifikan (contoh: \"dan\", \"atau\").\n",
    "Lematisasi dan Stemming: Mengurangi kata-kata ke bentuk dasarnya untuk menangani variasi kata (contoh: \"running\" menjadi \"run\").\n",
    "Transformasi Teks\n",
    "\n",
    "Tokenisasi: Memecah teks menjadi kata-kata atau token.\n",
    "Representasi Teks:\n",
    "Bag of Words (BoW): Representasi teks di mana setiap kata unik di seluruh korpus diberikan nilai numerik.\n",
    "TF-IDF (Term Frequency-Inverse Document Frequency): Menghitung frekuensi kata dan menyesuaikannya dengan frekuensi kemunculan kata tersebut di seluruh dokumen.\n",
    "Word Embeddings: Gunakan embedding seperti Word2Vec, GloVe, atau FastText untuk representasi vektor yang lebih kaya.\n",
    "Pemisahan Data\n",
    "\n",
    "Pisahkan data menjadi set pelatihan, validasi, dan pengujian (contoh: 70% pelatihan, 15% validasi, 15% pengujian).\n",
    "Pemilihan Model dan Pelatihan\n",
    "\n",
    "Pilih model machine learning yang sesuai seperti Naive Bayes, Logistic Regression, Support Vector Machine (SVM), atau model berbasis neural network seperti LSTM atau Transformer (BERT).\n",
    "Latih model menggunakan data pelatihan dan gunakan data validasi untuk tuning hyperparameters.\n",
    "Evaluasi Model\n",
    "\n",
    "Evaluasi model menggunakan metrik seperti akurasi, precision, recall, dan F1-score pada set pengujian.\n",
    "Analisis kesalahan untuk memahami di mana model mungkin gagal.\n",
    "Penyebab dan Solusi Model Overfitting\n",
    "Jika model memiliki akurasi yang baik pada set pelatihan tetapi tidak pada set pengujian, ini adalah indikasi dari overfitting. Overfitting terjadi ketika model terlalu kompleks dan menyesuaikan dengan noise atau detail khusus dari data pelatihan sehingga tidak mampu generalisasi dengan baik ke data baru. Beberapa penyebab dan solusinya termasuk:\n",
    "\n",
    "Penyebab Overfitting\n",
    "\n",
    "Model Terlalu Kompleks: Model yang terlalu banyak parameter atau layer.\n",
    "Data Pelatihan Tidak Cukup: Data pelatihan yang terlalu sedikit sehingga model tidak memiliki cukup variasi untuk belajar.\n",
    "Tidak Ada Regularisasi: Kurangnya mekanisme untuk mengurangi overfitting selama pelatihan.\n",
    "Solusi Mengatasi Overfitting\n",
    "\n",
    "Regularisasi: Gunakan teknik regularisasi seperti L1 atau L2 regularization, atau Dropout untuk neural networks.\n",
    "Augmentasi Data: Tambahkan lebih banyak data pelatihan atau gunakan teknik augmentasi data untuk memperluas dataset.\n",
    "Pengurangan Kompleksitas Model: Kurangi jumlah parameter atau layer pada model.\n",
    "Cross-Validation: Gunakan teknik cross-validation untuk memastikan model dapat generalisasi dengan baik.\n",
    "Early Stopping: Hentikan pelatihan ketika kinerja pada data validasi mulai menurun.\n",
    "Ensemble Methods: Gunakan metode ensemble seperti Random Forest atau Gradient Boosting untuk meningkatkan generalisasi.\n",
    "Dengan mengikuti langkah-langkah ini dan mengatasi masalah overfitting, Anda dapat membangun model analisis sentimen yang lebih akurat dan dapat diandalkan untuk ulasan produk di platform e-commerce."
   ],
   "metadata": {
    "id": "afNevmWe15bT"
   }
  },
  {
   "cell_type": "markdown",
   "source": [
    "## Studi Kasus"
   ],
   "metadata": {
    "id": "SnoPyGWcK8tF"
   }
  },
  {
   "cell_type": "markdown",
   "source": [
    "### Library"
   ],
   "metadata": {
    "id": "IiAvAyq5MMMC"
   }
  },
  {
   "cell_type": "code",
   "source": [
    "import pandas as pd\n",
    "import seaborn as sns\n",
    "import matplotlib.pyplot as plt"
   ],
   "metadata": {
    "id": "Wx6mp6hpMOi5",
    "ExecuteTime": {
     "end_time": "2024-08-07T01:32:52.227603100Z",
     "start_time": "2024-08-07T01:32:52.202840200Z"
    }
   },
   "execution_count": 1,
   "outputs": []
  },
  {
   "cell_type": "markdown",
   "source": [
    "### Dataset"
   ],
   "metadata": {
    "id": "bpGCagtbMQyN"
   }
  },
  {
   "cell_type": "markdown",
   "source": [
    "Sumber dataset \"IMDB Movies Dataset\" : https://www.kaggle.com/datasets/danielgrijalvas/movies"
   ],
   "metadata": {
    "id": "TwdbwR18MSP5"
   }
  },
  {
   "cell_type": "markdown",
   "source": [
    "#### Deskripsi \"IMDB Movies Dataset\"\n",
    "- `name`: Judul film\n",
    "- `rating`: Peringkat film berdasarkan kesesuaian dengan segmen penonton tertentu (R, PG, NC-17, dsb)\n",
    "- `genre`: Genre utama film\n",
    "- `year`: Tahun film dirilis\n",
    "- `released`: Tanggal film dirilis (YYYY-MM-DD)\n",
    "- `score`: Rata-rata nilai film yang diberikan oleh user IMDB\n",
    "- `votes`: Banyak user IMDB yang memberi nilai terhadap film\n",
    "- `director`: Sutradara film\n",
    "- `writer`: Penulis naskah film\n",
    "- `star`: Pemeran utama film\n",
    "- `country`: Negara produksi film\n",
    "- `budget`: Biaya yang dikeluarkan untuk produksi film\n",
    "- `gross`: Pendapatan kotor dari penayangan film\n",
    "- `company`: Perusahaan rumah produksi film\n",
    "- `runtime`: Durasi film (dalam menit)"
   ],
   "metadata": {
    "id": "RkGlDgDtMUkb"
   }
  },
  {
   "cell_type": "code",
   "source": [
    "df = pd.read_csv(\"https://drive.google.com/uc?id=1vooChEw-U_GiiSIbNEogGjpOkIFsZ22a\")"
   ],
   "metadata": {
    "id": "SnEyhZj0MWn4",
    "ExecuteTime": {
     "end_time": "2024-08-07T01:44:30.152217500Z",
     "start_time": "2024-08-07T01:44:25.990047500Z"
    }
   },
   "execution_count": 27,
   "outputs": []
  },
  {
   "cell_type": "markdown",
   "source": [
    "### Soal"
   ],
   "metadata": {
    "id": "57ekrCCjMbpd"
   }
  },
  {
   "cell_type": "markdown",
   "source": [
    "#### 1. Buatlah visualisasi untuk melihat jumlah rata-rata `score` film tiap `company` (Tampilkan Top 20). Apakah Warner Bros termasuk top 5 company dengan rata-rata score tertinggi? Tulis chart apa yang kamu pilih dan alasannya."
   ],
   "metadata": {
    "id": "WC4nxypfMhQh"
   }
  },
  {
   "cell_type": "markdown",
   "source": [
    "`Tulis Alasan Disini` : Jika kita melihat pada chart dibawah kita tidak menemukan bahwa warner bros masuk ke dalam Top 5 atau Top 20 denga rata-rata score tertinggi. Chart yang saya gunakan adalah horizontal bar chart karena horizontal bar chart lebih mudah dibaca jika kita ingin menampilkan lebih dari 6 baris data (lebih dari 6 company) bila dibandingkan vertical bar chart selain itu horizontal bar chart juga mudah menampilkan data yang diurutkan pada kasus kali ini saya mengurutkan company dari yang mempunyai average score tertinggi ke average score terendah."
   ],
   "metadata": {
    "id": "uymOUFnW5yKa"
   }
  },
  {
   "cell_type": "code",
   "source": [
    "# Tulis Kode Disini\n",
    "# Mengelompokkan data berdasarkan perusahaan dan menghitung rata-rata score\n",
    "company_avg_score = df.groupby('company')['score'].mean().sort_values(ascending=True)\n",
    "\n",
    "# Memilih 20 perusahaan teratas berdasarkan rata-rata score\n",
    "top_20_companies = company_avg_score.head(20)\n",
    "\n",
    "# Membuat bar chart\n",
    "plt.figure(figsize=(14, 10))\n",
    "top_20_companies.plot(kind='barh', color='skyblue')\n",
    "plt.title('Top 20 Companies by Average Movie Score')\n",
    "plt.xlabel('Company')\n",
    "# Menampilkan chart\n",
    "plt.tight_layout()\n",
    "plt.show()"
   ],
   "metadata": {
    "id": "YSd6cVac6ULN",
    "ExecuteTime": {
     "end_time": "2024-08-07T01:56:49.209979100Z",
     "start_time": "2024-08-07T01:56:48.840900200Z"
    }
   },
   "execution_count": 44,
   "outputs": [
    {
     "data": {
      "text/plain": "<Figure size 1008x720 with 1 Axes>",
      "image/png": "[encoded data removed]"
     },
     "metadata": {},
     "output_type": "display_data"
    }
   ]
  },
  {
   "cell_type": "markdown",
   "source": [
    "#### 2. Buatlah visualisasi *tren* rata-rata `budget` film pertahun. Berikan *insight* yang dapat kamu peroleh dari visualisasi yang telah kamu buat. Tulis chart apa yang kamu pilih dan alasannya."
   ],
   "metadata": {
    "id": "nnvMBPEdqRvg"
   }
  },
  {
   "cell_type": "markdown",
   "source": [
    "`Tulis Alasan Disini` :\n",
    "- Secara Kesuluruhan terjadi peningkatan budget dari average movie dari tahun 1980 - 2020\n",
    "- Dari 1980 awal sampai pertengahaan 1988 budget lumayan stabil dengan sedikit fluktuasi\n",
    "- Ketika mendekati 1989 terjadi peningkatan budget yang cukup signifikan\n",
    "- Peningkatan budget yang cukup signifikan ini terjadi hingga tahun 2000 awal dengan sedikit fluktuasi\n",
    "- kemudian terjadi fluktuasi yang cukup besar di tahun 2002 hingga 2003\n",
    "- kemudian harga kembali stabil di sekitar 2005 (sedikit fluktuasi)\n",
    "- Setelah tahun 2010 an kembali terjadi peningkatan budget average movie dengan fluktuasi yang cukup tinggi juga (sekitar 2018)\n",
    "- sekitar 2019 awal budget film cenderung stagnan (peningkatanr rendah)"
   ],
   "metadata": {
    "id": "0Nn44gPA56m3"
   }
  },
  {
   "cell_type": "code",
   "source": [
    "# Tulis Kode Disini\n",
    "yearly_avg_budget = df.groupby('year')['budget'].mean()\n",
    "\n",
    "# Membuat line chart\n",
    "plt.figure(figsize=(12, 8))\n",
    "yearly_avg_budget.plot(kind='line', marker='o', color='skyblue')\n",
    "plt.title('Trend of Average Movie Budget by Year')\n",
    "plt.xlabel('Year')\n",
    "plt.ylabel('Average Budget')\n",
    "plt.grid(True)\n",
    "\n",
    "# Menampilkan chart\n",
    "plt.tight_layout()\n",
    "plt.show()"
   ],
   "metadata": {
    "id": "-5DHPgVz6X8V",
    "ExecuteTime": {
     "end_time": "2024-08-07T02:02:36.234564Z",
     "start_time": "2024-08-07T02:02:35.350518100Z"
    }
   },
   "execution_count": 45,
   "outputs": [
    {
     "data": {
      "text/plain": "<Figure size 864x576 with 1 Axes>",
      "image/png": "[encoded data removed]"
     },
     "metadata": {},
     "output_type": "display_data"
    }
   ]
  },
  {
   "cell_type": "markdown",
   "source": [
    "\n",
    "## Narahubung\n",
    "Whatsapp\n",
    "\n",
    "+62895352096866 - Nabeel Muhammad\n",
    "\n",
    "+6281299094091 - Yovan Raju\n",
    "\n",
    "+6281295778921 - Salsabila Caturizky"
   ],
   "metadata": {
    "id": "7plDepImluky"
   }
  }
 ]
}
